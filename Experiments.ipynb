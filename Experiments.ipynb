{
 "cells": [
  {
   "cell_type": "code",
   "execution_count": 1,
   "metadata": {},
   "outputs": [],
   "source": [
    "import numpy as np\n",
    "from data.power_system import PowerSystem\n",
    "from data.examples import create_example\n",
    "from solvers.solvers import WLS, QWLS"
   ]
  },
  {
   "cell_type": "markdown",
   "metadata": {},
   "source": [
    "# 3-Bus Example"
   ]
  },
  {
   "cell_type": "code",
   "execution_count": 2,
   "metadata": {},
   "outputs": [
    {
     "name": "stdout",
     "output_type": "stream",
     "text": [
      "Theta 1   -0.022 \n",
      "Theta 2   -0.048 \n",
      "V 1        1.000 \n",
      "V 2        0.974 \n",
      "V 3        0.944 \n",
      "\n",
      "\n",
      "                   Estimated Measurements                   \n",
      "\n",
      "Number of measurements: 8\n",
      "\n",
      "----------------------------------------------------------\n",
      "Measurement |  Type  | Value (pu) | h (pu) | residual (pu)\n",
      "----------------------------------------------------------\n",
      "1           | P_{12} |   0.888    | 0.893  |        -0.005\n",
      "2           | P_{13} |   1.173    | 1.171  |         0.002\n",
      "3           | P_{2}  |   -0.501   | -0.496 |        -0.005\n",
      "4           | Q_{12} |   0.568    | 0.559  |         0.009\n",
      "5           | Q_{13} |   0.663    | 0.668  |        -0.005\n",
      "6           | Q_{2}  |   -0.286   | -0.298 |         0.012\n",
      "7           |  V_1   |   1.006    |  1.0   |         0.006\n",
      "8           |  V_2   |   0.968    | 0.974  |        -0.006\n",
      "----------------------------------------------------------\n"
     ]
    }
   ],
   "source": [
    "# Create the PowerSystem object\n",
    "power_system = create_example(n_buses=3)\n",
    "\n",
    "# Define the solver\n",
    "wls = WLS()\n",
    "\n",
    "# Estimate the state of the power system\n",
    "x, r, G, H, h = power_system.estimate_state(solver=wls)"
   ]
  },
  {
   "cell_type": "code",
   "execution_count": 3,
   "metadata": {},
   "outputs": [
    {
     "name": "stdout",
     "output_type": "stream",
     "text": [
      "Theta 1   -0.022 \n",
      "Theta 2   -0.048 \n",
      "V 1        0.997 \n",
      "V 2        0.971 \n",
      "V 3        0.941 \n",
      "\n",
      "\n",
      "                   Estimated Measurements                   \n",
      "\n",
      "Number of measurements: 8\n",
      "\n",
      "----------------------------------------------------------\n",
      "Measurement |  Type  | Value (pu) | h (pu) | residual (pu)\n",
      "----------------------------------------------------------\n",
      "1           | P_{12} |   0.888    | 0.892  |        -0.004\n",
      "2           | P_{13} |   1.173    | 1.163  |          0.01\n",
      "3           | P_{2}  |   -0.501   | -0.499 |        -0.002\n",
      "4           | Q_{12} |   0.568    |  0.56  |         0.008\n",
      "5           | Q_{13} |   0.663    | 0.674  |        -0.011\n",
      "6           | Q_{2}  |   -0.286   | -0.295 |         0.009\n",
      "7           |  V_1   |   1.006    | 0.996  |          0.01\n",
      "8           |  V_2   |   0.968    | 0.971  |        -0.003\n",
      "----------------------------------------------------------\n"
     ]
    }
   ],
   "source": [
    "# No optimization steps, use the best weights saved in the best_weights_path\n",
    "# The tol was set to 6.2e-4 in the QWLS class due to the fact that the best weights were already saved under this tolerance\n",
    "qwls = QWLS(steps=0, tol=6.2e-4)\n",
    "\n",
    "x, r, G, H, h = power_system.estimate_state(solver=qwls)"
   ]
  },
  {
   "cell_type": "code",
   "execution_count": null,
   "metadata": {},
   "outputs": [],
   "source": []
  }
 ],
 "metadata": {
  "kernelspec": {
   "display_name": "Python 3 (ipykernel)",
   "language": "python",
   "name": "python3"
  },
  "language_info": {
   "codemirror_mode": {
    "name": "ipython",
    "version": 3
   },
   "file_extension": ".py",
   "mimetype": "text/x-python",
   "name": "python",
   "nbconvert_exporter": "python",
   "pygments_lexer": "ipython3",
   "version": "3.10.9"
  }
 },
 "nbformat": 4,
 "nbformat_minor": 2
}
